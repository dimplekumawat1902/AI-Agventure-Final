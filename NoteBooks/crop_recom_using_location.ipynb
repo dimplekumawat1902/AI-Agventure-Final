{
 "cells": [
  {
   "cell_type": "markdown",
   "metadata": {},
   "source": [
    "# Crop Recommendation System"
   ]
  },
  {
   "cell_type": "markdown",
   "metadata": {},
   "source": [
    "## Provide Inputs for recommendation \n",
    "### Requirements\n",
    "1. Location (Name of any state in India)\n",
    "2. Month (1 - 12 format)"
   ]
  },
  {
   "cell_type": "markdown",
   "metadata": {},
   "source": [
    "### Enter the name of state in India"
   ]
  },
  {
   "cell_type": "code",
   "execution_count": 1,
   "metadata": {},
   "outputs": [
    {
     "name": "stdout",
     "output_type": "stream",
     "text": [
      "Enter the name of state: Uttar Pradesh\n"
     ]
    }
   ],
   "source": [
    "state = input(\"Enter the name of state: \")"
   ]
  },
  {
   "cell_type": "markdown",
   "metadata": {},
   "source": [
    "### Enter month (1 for Jan ... 12 for Dec)"
   ]
  },
  {
   "cell_type": "code",
   "execution_count": 2,
   "metadata": {},
   "outputs": [
    {
     "name": "stdout",
     "output_type": "stream",
     "text": [
      "Enter month: 1\n"
     ]
    }
   ],
   "source": [
    "month = int(input(\"Enter month: \"))"
   ]
  },
  {
   "cell_type": "markdown",
   "metadata": {},
   "source": [
    "## Importing required libraries"
   ]
  },
  {
   "cell_type": "code",
   "execution_count": 3,
   "metadata": {},
   "outputs": [],
   "source": [
    "import os\n",
    "import sys\n",
    "\n",
    "import csv\n",
    "import datetime\n",
    "\n",
    "import numpy as np\n",
    "import pandas as pd\n",
    "\n",
    "from sklearn.linear_model import LinearRegression\n",
    "from sklearn.model_selection import train_test_split"
   ]
  },
  {
   "cell_type": "markdown",
   "metadata": {},
   "source": [
    "## Variable Declaration"
   ]
  },
  {
   "cell_type": "code",
   "execution_count": 4,
   "metadata": {},
   "outputs": [],
   "source": [
    "now = datetime.datetime.now()\n",
    "# month=now.month\n",
    "# month=6 #dummy month for june\n",
    "area=\"\"\n",
    "temp=[]\n",
    "temp_final=[]\n",
    "rain_fall=[]\n",
    "rainfall_final=[]\n",
    "prevtemp=0\n",
    "prevrainfall=0"
   ]
  },
  {
   "cell_type": "markdown",
   "metadata": {},
   "source": [
    "## Defining Area Function"
   ]
  },
  {
   "cell_type": "code",
   "execution_count": 5,
   "metadata": {},
   "outputs": [],
   "source": [
    "def main(area):\n",
    "    area=sys.argv[1]\n",
    "    area=area+' '\n",
    "    #print \"this is area:\", area\n",
    "    return str(area)\n",
    "\n",
    "area=main(area)\n",
    "#area= 'Pune '\n",
    "# state='Kerala'"
   ]
  },
  {
   "cell_type": "markdown",
   "metadata": {},
   "source": [
    "## Nutrient Conv Function"
   ]
  },
  {
   "cell_type": "code",
   "execution_count": 6,
   "metadata": {},
   "outputs": [],
   "source": [
    "def conv(nutrient):\n",
    "    nutrient_dict={'VL':1,'L':2,'M':3,'H':4,'VH':5 }\n",
    "    return  nutrient_dict.__getitem__(nutrient)"
   ]
  },
  {
   "cell_type": "markdown",
   "metadata": {},
   "source": [
    "## Areas' Temperature and Rainfall"
   ]
  },
  {
   "cell_type": "code",
   "execution_count": 7,
   "metadata": {},
   "outputs": [],
   "source": [
    "with open('data/temprainfall.csv') as csvfile:\n",
    "    reader = csv.reader(csvfile)\n",
    "    flag=0\n",
    "    \n",
    "    for row in reader:\n",
    "        if row[0] == area:\n",
    "            if flag==0:\n",
    "                state=row[1]\n",
    "                flag=1\n",
    "        temperature=(float(row[3])+float(row[4]))/2\n",
    "        temp.append(round(temperature,2))\n",
    "        rain_fall.append(float(row[5])) \n",
    "\n",
    "    csvfile.close"
   ]
  },
  {
   "cell_type": "markdown",
   "metadata": {},
   "source": [
    "## Areas' Temperature and Rainfall according to Month"
   ]
  },
  {
   "cell_type": "code",
   "execution_count": 8,
   "metadata": {},
   "outputs": [],
   "source": [
    "def rainfall(temp_final,rainfall_final,temp,rain_fall):    \n",
    "    index=month-1\n",
    "    prevtemp=0\n",
    "    prevrainfall=0\n",
    "    \n",
    "    \n",
    "    for i in range (1,13):\n",
    "        prevtemp=prevtemp+temp[index]\n",
    "        temp_final.append(round((prevtemp/i),2))\n",
    "        prevrainfall=prevrainfall+rain_fall[index]\n",
    "        rainfall_final.append(round(prevrainfall,2))\n",
    "        index= index+1\n",
    "        if index==12:\n",
    "            index=0"
   ]
  },
  {
   "cell_type": "markdown",
   "metadata": {},
   "source": [
    "## Nutrients based on Area"
   ]
  },
  {
   "cell_type": "code",
   "execution_count": 10,
   "metadata": {},
   "outputs": [],
   "source": [
    "def nutrients(state,rainfall_final,temp_final):\n",
    "    try:\n",
    "        with open('data/nutrientsarea.csv', 'r') as csvfile:\n",
    "            reader = csv.reader(csvfile)\n",
    "            for row in reader:\n",
    "                if row[0] == state:\n",
    "                    narea=conv(row[1])\n",
    "                    parea=conv(row[2])\n",
    "                    karea=conv(row[3])\n",
    "                    ph=row[4]\n",
    "    except IOError:\n",
    "        print (\"No file exists named nutrientsarea.csv\")\n",
    "        sys.exit(\"The required file does not exist!!!\")               \n",
    "    csvfile.close\n",
    "\n",
    "    #nutrient based filter of crops\n",
    "    try:\n",
    "        \n",
    "        with open('data/cropDB.csv', 'r') as csvfile, open('data/metacrops.csv', 'w') as metacrops:\n",
    "            reader = csv.reader(csvfile)\n",
    "            metacrops.writelines(\"Crop, Rainfall, Temperature, pH \\n\")\n",
    "            for row in reader:\n",
    "                ncrop=conv(row[8])\n",
    "                pcrop=conv(row[9])\n",
    "                kcrop=conv(row[10])\n",
    "                if(narea>=ncrop and parea>=pcrop and karea>=kcrop):\n",
    "                    no_months=int(row[1])\n",
    "                    total=row[0]+\",\"+str(rainfall_final[no_months-1])+\",\"+str(temp_final[no_months-1])+\",\"+ph+\"\\n\"\n",
    "                    metacrops.writelines(total)\n",
    "    except IOError:\n",
    "        print (\"No file exists named cropDB.csv\")\n",
    "        sys.exit(\"The required file does not exist!!!\")     \n",
    "    csvfile.close\n",
    "    metacrops.close "
   ]
  },
  {
   "cell_type": "markdown",
   "metadata": {},
   "source": [
    "## Replicate file with headings"
   ]
  },
  {
   "cell_type": "code",
   "execution_count": 27,
   "metadata": {},
   "outputs": [],
   "source": [
    "def filewrite():\n",
    "    n=1\n",
    "    try:\n",
    "        with open(\"data/metacrops.csv\",'r') as f:\n",
    "            with open(\"data/metacrops11.csv\", \"w\") as f1:\n",
    "                for line in f:\n",
    "                    if n==1:\n",
    "                        n=n+1\n",
    "                        continue\n",
    "                    f1.write(line)\n",
    "    except IOError as e:\n",
    "            print (\"I/O error({0}): {1}\".format(e.errno, e.strerror))\n",
    "            sys.exit(\"No such file exists\")\n",
    "    f.close\n",
    "    f1.close "
   ]
  },
  {
   "cell_type": "markdown",
   "metadata": {},
   "source": [
    "## Regression Function"
   ]
  },
  {
   "cell_type": "code",
   "execution_count": 28,
   "metadata": {},
   "outputs": [],
   "source": [
    "def regression():\n",
    "   \n",
    "    # Data Preprocessing \n",
    "    n=0\n",
    "    crop_Y_pred=[]\n",
    "    crop_name=[]\n",
    "    dataset=pd.read_csv('data/regressiondb.csv')\n",
    "    locbased=pd.read_csv('data/metacrops.csv')\n",
    "    \n",
    "    try:\n",
    "        with open('data/metacrops11.csv', 'r') as csvfile:\n",
    "            reader = csv.reader(csvfile)\n",
    "\n",
    "            for row in reader:\n",
    "                crop=row[0]\n",
    "                metadata=dataset.loc[dataset['Crop'] == crop]\n",
    "                X = metadata.iloc[:, :-2].values\n",
    "                Y = metadata.iloc[:, 4].values\n",
    "              \n",
    "                X_train, X_test, Y_train, Y_test = train_test_split(X, Y, test_size = 0.1, random_state = 0)\n",
    "                regressor = LinearRegression()\n",
    "                regressor.fit(X_train, Y_train)  \n",
    "               \n",
    "                X_locbased = locbased.loc[[n]].values\n",
    "                X_locbased = X_locbased[:, 1:4]\n",
    "                Y_pred=regressor.predict(X_locbased)\n",
    "               \n",
    "                if Y_pred>0:\n",
    "                    crop_Y_pred.append(round(Y_pred[0],3))\n",
    "                    crop_name.append(crop)\n",
    "                                     \n",
    "        sorted_crops=quicksort(crop_name,crop_Y_pred,0,len(crop_Y_pred)-1)                       \n",
    "        csvfile.close\n",
    "        \n",
    "        return sorted_crops\n",
    "   \n",
    "    except IOError:\n",
    "        print (\"No file exists named metacrops11.csv\")\n",
    "        sys.exit(\"No such file exists\")\n",
    "    os.remove('data/metacrops.csv')       \n",
    "    os.remove('data/metacrops11.csv')"
   ]
  },
  {
   "cell_type": "markdown",
   "metadata": {},
   "source": [
    "## Sorting and Partition"
   ]
  },
  {
   "cell_type": "code",
   "execution_count": 29,
   "metadata": {},
   "outputs": [],
   "source": [
    "# Sorting Function\n",
    "def quicksort(crop_name,crop_Y_pred,start, end):\n",
    "    if start < end:\n",
    "\n",
    "        pivot = partition(crop_name,crop_Y_pred, start, end)\n",
    "\n",
    "        quicksort(crop_name,crop_Y_pred, start, pivot-1)\n",
    "        quicksort(crop_name,crop_Y_pred, pivot+1, end)\n",
    "    return crop_name\n",
    "\n",
    "#Partition function\n",
    "def partition(crop_name,crop_Y_pred, start, end):\n",
    "    pivot = crop_Y_pred[start]\n",
    "    left = start+1\n",
    "    right = end\n",
    "    done = False\n",
    "    while not done:\n",
    "        while left <= right and crop_Y_pred[left] >= pivot:\n",
    "            left = left + 1\n",
    "        while crop_Y_pred[right] <= pivot and right >=left:\n",
    "            right = right -1\n",
    "        if right < left:\n",
    "            done= True\n",
    "        else:\n",
    "\n",
    "            temp=crop_Y_pred[left]\n",
    "            crop_Y_pred[left]=crop_Y_pred[right]\n",
    "            crop_Y_pred[right]=temp\n",
    "            \n",
    "            temp1=crop_name[left]\n",
    "            crop_name[left]=crop_name[right]\n",
    "            crop_name[right]=temp1\n",
    "            \n",
    "    temp=crop_Y_pred[start]\n",
    "    crop_Y_pred[start]=crop_Y_pred[right]\n",
    "    crop_Y_pred[right]=temp\n",
    "    \n",
    "    temp1=crop_name[start]\n",
    "    crop_name[start]=crop_name[right]\n",
    "    crop_name[right]=temp1\n",
    "        \n",
    "    return right"
   ]
  },
  {
   "cell_type": "markdown",
   "metadata": {},
   "source": [
    "## Convert recommended crop list to string"
   ]
  },
  {
   "cell_type": "code",
   "execution_count": 30,
   "metadata": {},
   "outputs": [],
   "source": [
    "def ListtoStr(sorted_crop):\n",
    "    pred_crop = \"\"\n",
    "    comma_flag=0\n",
    "    no=len(sorted_crop)\n",
    "    if(no>10):\n",
    "        no=10\n",
    "    for i in range (no):\n",
    "        if comma_flag==1:\n",
    "            pred_crop=pred_crop+\",\"\n",
    "                       \n",
    "        pred_crop= pred_crop + sorted_crop[i]\n",
    "        comma_flag=1\n",
    "    return pred_crop"
   ]
  },
  {
   "cell_type": "code",
   "execution_count": 31,
   "metadata": {},
   "outputs": [],
   "source": [
    "NumtoMonth = {1:'January',2:'February',3:'March',4:'April',5:'May',6:'June',7:'july',\n",
    "             8:'August',9:'September',10:'October',11:'November',12:'December'}"
   ]
  },
  {
   "cell_type": "markdown",
   "metadata": {},
   "source": [
    "## Main Function"
   ]
  },
  {
   "cell_type": "code",
   "execution_count": 32,
   "metadata": {},
   "outputs": [],
   "source": [
    "if __name__ == '__main__':\n",
    "\n",
    "    rainfall(temp_final,rainfall_final,temp,rain_fall)\n",
    "    nutrients(state,rainfall_final,temp_final)\n",
    "    filewrite()\n",
    "    sorted_crop=regression()\n",
    "    final_crop=ListtoStr(sorted_crop)\n",
    "    "
   ]
  },
  {
   "cell_type": "markdown",
   "metadata": {},
   "source": [
    "## Result"
   ]
  },
  {
   "cell_type": "code",
   "execution_count": 41,
   "metadata": {},
   "outputs": [
    {
     "name": "stdout",
     "output_type": "stream",
     "text": [
      "Recommended crop for the month of January in Karnataka is/are: \n",
      "Bottle Gourd,Barley,Bean,Lentil\n"
     ]
    }
   ],
   "source": [
    "print ('Recommended crop for the month of '+NumtoMonth[month]+' in '+state+' is/are: \\n'+final_crop)"
   ]
  }
 ],
 "metadata": {
  "kernelspec": {
   "display_name": "Python 3",
   "language": "python",
   "name": "python3"
  },
  "language_info": {
   "codemirror_mode": {
    "name": "ipython",
    "version": 3
   },
   "file_extension": ".py",
   "mimetype": "text/x-python",
   "name": "python",
   "nbconvert_exporter": "python",
   "pygments_lexer": "ipython3",
   "version": "3.8.8"
  }
 },
 "nbformat": 4,
 "nbformat_minor": 2
}
