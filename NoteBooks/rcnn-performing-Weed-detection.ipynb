{
 "cells": [
  {
   "cell_type": "markdown",
   "metadata": {},
   "source": [
    "Part of RCNN model training. Full code in [Github](https://github.com/ravirajsinh45/implementation_of_RCNN)."
   ]
  },
  {
   "cell_type": "code",
   "execution_count": 1,
   "metadata": {},
   "outputs": [
    {
     "name": "stdout",
     "output_type": "stream",
     "text": [
      "Found existing installation: opencv-python 4.2.0.34\r\n",
      "Uninstalling opencv-python-4.2.0.34:\r\n",
      "  Successfully uninstalled opencv-python-4.2.0.34\r\n"
     ]
    }
   ],
   "source": [
    "!pip uninstall opencv-python -y"
   ]
  },
  {
   "cell_type": "code",
   "execution_count": 2,
   "metadata": {},
   "outputs": [
    {
     "name": "stdout",
     "output_type": "stream",
     "text": [
      "Collecting opencv-contrib-python\r\n",
      "  Downloading opencv_contrib_python-4.2.0.34-cp37-cp37m-manylinux1_x86_64.whl (34.2 MB)\r\n",
      "\u001b[K     |████████████████████████████████| 34.2 MB 132 kB/s \r\n",
      "\u001b[?25hRequirement already satisfied: numpy>=1.14.5 in /opt/conda/lib/python3.7/site-packages (from opencv-contrib-python) (1.18.1)\r\n",
      "Installing collected packages: opencv-contrib-python\r\n",
      "Successfully installed opencv-contrib-python-4.2.0.34\r\n"
     ]
    }
   ],
   "source": [
    "!pip install opencv-contrib-python"
   ]
  },
  {
   "cell_type": "code",
   "execution_count": 1,
   "metadata": {},
   "outputs": [],
   "source": [
    "import numpy as np\n",
    "import pandas as pd\n",
    "import matplotlib.pyplot as plt\n",
    "import cv2\n",
    "import tensorflow as tf\n",
    "import os\n",
    "from tqdm import tqdm\n",
    "import json\n",
    "import warnings\n",
    "import pickle\n",
    "warnings.filterwarnings('ignore')\n"
   ]
  },
  {
   "cell_type": "code",
   "execution_count": 2,
   "metadata": {
    "_cell_guid": "79c7e3d0-c299-4dcb-8224-4455121ee9b0",
    "_uuid": "d629ff2d2480ee46fbb7e2d37f6b5fab8052498a"
   },
   "outputs": [],
   "source": [
    "model_path = 'RCNN_crop_weed_classification_model.h5'\n",
    "\n",
    "svm_model_path = 'svm_classifier.pkl'\n",
    "images_path = 'agri_data_images/'\n",
    "images_name = [x for x in os.listdir(images_path) if x.endswith('.jpeg')]"
   ]
  },
  {
   "cell_type": "markdown",
   "metadata": {},
   "source": [
    "# Loading all previously trained model"
   ]
  },
  {
   "cell_type": "code",
   "execution_count": 3,
   "metadata": {},
   "outputs": [],
   "source": [
    "model = tf.keras.models.load_model(model_path)"
   ]
  },
  {
   "cell_type": "code",
   "execution_count": 4,
   "metadata": {},
   "outputs": [
    {
     "name": "stdout",
     "output_type": "stream",
     "text": [
      "Model: \"model\"\n",
      "_________________________________________________________________\n",
      "Layer (type)                 Output Shape              Param #   \n",
      "=================================================================\n",
      "input_1 (InputLayer)         [(None, 224, 224, 3)]     0         \n",
      "_________________________________________________________________\n",
      "block1_conv1 (Conv2D)        (None, 224, 224, 64)      1792      \n",
      "_________________________________________________________________\n",
      "block1_conv2 (Conv2D)        (None, 224, 224, 64)      36928     \n",
      "_________________________________________________________________\n",
      "block1_pool (MaxPooling2D)   (None, 112, 112, 64)      0         \n",
      "_________________________________________________________________\n",
      "block2_conv1 (Conv2D)        (None, 112, 112, 128)     73856     \n",
      "_________________________________________________________________\n",
      "block2_conv2 (Conv2D)        (None, 112, 112, 128)     147584    \n",
      "_________________________________________________________________\n",
      "block2_pool (MaxPooling2D)   (None, 56, 56, 128)       0         \n",
      "_________________________________________________________________\n",
      "block3_conv1 (Conv2D)        (None, 56, 56, 256)       295168    \n",
      "_________________________________________________________________\n",
      "block3_conv2 (Conv2D)        (None, 56, 56, 256)       590080    \n",
      "_________________________________________________________________\n",
      "block3_conv3 (Conv2D)        (None, 56, 56, 256)       590080    \n",
      "_________________________________________________________________\n",
      "block3_pool (MaxPooling2D)   (None, 28, 28, 256)       0         \n",
      "_________________________________________________________________\n",
      "block4_conv1 (Conv2D)        (None, 28, 28, 512)       1180160   \n",
      "_________________________________________________________________\n",
      "block4_conv2 (Conv2D)        (None, 28, 28, 512)       2359808   \n",
      "_________________________________________________________________\n",
      "block4_conv3 (Conv2D)        (None, 28, 28, 512)       2359808   \n",
      "_________________________________________________________________\n",
      "block4_pool (MaxPooling2D)   (None, 14, 14, 512)       0         \n",
      "_________________________________________________________________\n",
      "block5_conv1 (Conv2D)        (None, 14, 14, 512)       2359808   \n",
      "_________________________________________________________________\n",
      "block5_conv2 (Conv2D)        (None, 14, 14, 512)       2359808   \n",
      "_________________________________________________________________\n",
      "block5_conv3 (Conv2D)        (None, 14, 14, 512)       2359808   \n",
      "_________________________________________________________________\n",
      "block5_pool (MaxPooling2D)   (None, 7, 7, 512)         0         \n",
      "_________________________________________________________________\n",
      "flatten (Flatten)            (None, 25088)             0         \n",
      "_________________________________________________________________\n",
      "dense (Dense)                (None, 4096)              102764544 \n",
      "_________________________________________________________________\n",
      "dropout (Dropout)            (None, 4096)              0         \n",
      "_________________________________________________________________\n",
      "dense_1 (Dense)              (None, 4096)              16781312  \n",
      "_________________________________________________________________\n",
      "dropout_1 (Dropout)          (None, 4096)              0         \n",
      "_________________________________________________________________\n",
      "dense_2 (Dense)              (None, 3)                 12291     \n",
      "=================================================================\n",
      "Total params: 134,272,835\n",
      "Trainable params: 119,558,147\n",
      "Non-trainable params: 14,714,688\n",
      "_________________________________________________________________\n"
     ]
    }
   ],
   "source": [
    "model.summary()"
   ]
  },
  {
   "cell_type": "code",
   "execution_count": 5,
   "metadata": {},
   "outputs": [],
   "source": [
    "model_without_last_two_fc = tf.keras.models.Model(model.inputs,model.layers[-5].output)"
   ]
  },
  {
   "cell_type": "code",
   "execution_count": 6,
   "metadata": {},
   "outputs": [
    {
     "name": "stdout",
     "output_type": "stream",
     "text": [
      "Model: \"model\"\n",
      "_________________________________________________________________\n",
      "Layer (type)                 Output Shape              Param #   \n",
      "=================================================================\n",
      "input_1 (InputLayer)         [(None, 224, 224, 3)]     0         \n",
      "_________________________________________________________________\n",
      "block1_conv1 (Conv2D)        (None, 224, 224, 64)      1792      \n",
      "_________________________________________________________________\n",
      "block1_conv2 (Conv2D)        (None, 224, 224, 64)      36928     \n",
      "_________________________________________________________________\n",
      "block1_pool (MaxPooling2D)   (None, 112, 112, 64)      0         \n",
      "_________________________________________________________________\n",
      "block2_conv1 (Conv2D)        (None, 112, 112, 128)     73856     \n",
      "_________________________________________________________________\n",
      "block2_conv2 (Conv2D)        (None, 112, 112, 128)     147584    \n",
      "_________________________________________________________________\n",
      "block2_pool (MaxPooling2D)   (None, 56, 56, 128)       0         \n",
      "_________________________________________________________________\n",
      "block3_conv1 (Conv2D)        (None, 56, 56, 256)       295168    \n",
      "_________________________________________________________________\n",
      "block3_conv2 (Conv2D)        (None, 56, 56, 256)       590080    \n",
      "_________________________________________________________________\n",
      "block3_conv3 (Conv2D)        (None, 56, 56, 256)       590080    \n",
      "_________________________________________________________________\n",
      "block3_pool (MaxPooling2D)   (None, 28, 28, 256)       0         \n",
      "_________________________________________________________________\n",
      "block4_conv1 (Conv2D)        (None, 28, 28, 512)       1180160   \n",
      "_________________________________________________________________\n",
      "block4_conv2 (Conv2D)        (None, 28, 28, 512)       2359808   \n",
      "_________________________________________________________________\n",
      "block4_conv3 (Conv2D)        (None, 28, 28, 512)       2359808   \n",
      "_________________________________________________________________\n",
      "block4_pool (MaxPooling2D)   (None, 14, 14, 512)       0         \n",
      "_________________________________________________________________\n",
      "block5_conv1 (Conv2D)        (None, 14, 14, 512)       2359808   \n",
      "_________________________________________________________________\n",
      "block5_conv2 (Conv2D)        (None, 14, 14, 512)       2359808   \n",
      "_________________________________________________________________\n",
      "block5_conv3 (Conv2D)        (None, 14, 14, 512)       2359808   \n",
      "_________________________________________________________________\n",
      "block5_pool (MaxPooling2D)   (None, 7, 7, 512)         0         \n",
      "_________________________________________________________________\n",
      "flatten (Flatten)            (None, 25088)             0         \n",
      "_________________________________________________________________\n",
      "dense (Dense)                (None, 4096)              102764544 \n",
      "=================================================================\n",
      "Total params: 117,479,232\n",
      "Trainable params: 102,764,544\n",
      "Non-trainable params: 14,714,688\n",
      "_________________________________________________________________\n"
     ]
    }
   ],
   "source": [
    "model_without_last_two_fc.summary()"
   ]
  },
  {
   "cell_type": "code",
   "execution_count": 7,
   "metadata": {},
   "outputs": [],
   "source": [
    "with open(svm_model_path,'rb') as svm:\n",
    "    svm_model = pickle.load(svm)"
   ]
  },
  {
   "cell_type": "code",
   "execution_count": null,
   "metadata": {},
   "outputs": [],
   "source": []
  },
  {
   "cell_type": "markdown",
   "metadata": {},
   "source": [
    "## Defining function for iou calculation"
   ]
  },
  {
   "cell_type": "code",
   "execution_count": 8,
   "metadata": {},
   "outputs": [],
   "source": [
    "def iou_calc(bb1 , bb2):\n",
    "  \n",
    "    true_xmin, true_ymin, true_width, true_height  = bb1\n",
    "    bb_xmin, bb_ymin,  bb_width, bb_height = bb2\n",
    "\n",
    "    true_xmax = true_xmin + true_width\n",
    "    true_ymax = true_ymin + true_height\n",
    "    bb_xmax = bb_xmin + bb_width\n",
    "    bb_ymax = bb_ymin + bb_height\n",
    "\n",
    "    #calculating area\n",
    "    true_area = true_width * true_height\n",
    "    bb_area   = bb_width * bb_height \n",
    "\n",
    "    #calculating itersection cordinates\n",
    "    inter_xmin = max(true_xmin , bb_xmin) \n",
    "    inter_ymin = max(true_ymin , bb_ymin)\n",
    "    inter_xmax = min(true_xmax , bb_xmax)\n",
    "    inter_ymax = min(true_ymax , bb_ymax)\n",
    "\n",
    "    if inter_xmax <= inter_xmin or inter_ymax <= inter_ymin:\n",
    "        iou = 0\n",
    "\n",
    "\n",
    "    else:\n",
    "        inter_area = (inter_xmax - inter_xmin) * (inter_ymax - inter_ymin)\n",
    "\n",
    "\n",
    "        iou = inter_area / (true_area + bb_area - inter_area)\n",
    "        \n",
    "    assert iou<=1\n",
    "    assert iou>=0\n",
    "    \n",
    "    return iou"
   ]
  },
  {
   "cell_type": "markdown",
   "metadata": {},
   "source": [
    "# Performing detection"
   ]
  },
  {
   "cell_type": "code",
   "execution_count": 39,
   "metadata": {},
   "outputs": [],
   "source": [
    "def detection(img_path):\n",
    "    \n",
    "    confidence=0.9\n",
    "    iou_thresh=0.1\n",
    "    \n",
    "    # appling selective search\n",
    "    img = cv2.imread(img_path)\n",
    "    cv2.setUseOptimized(True);\n",
    "    ss = cv2.ximgproc.segmentation.createSelectiveSearchSegmentation()\n",
    "    ss.setBaseImage(img)\n",
    "    ss.switchToSelectiveSearchFast()\n",
    "    rects = ss.process()\n",
    "    sel_rects = rects[:2000]\n",
    "    \n",
    "    pred_crop=[]\n",
    "    pred_weed=[]\n",
    "    for index, rect in tqdm(enumerate(sel_rects)):\n",
    "\n",
    "        x,y,w,h = rect\n",
    "        roi = img[y:y+h,x:x+w,:]\n",
    "        resized_roi = cv2.resize(roi,(224,224))/255\n",
    "        \n",
    "        # Feature extraction\n",
    "        \n",
    "        feature = model_without_last_two_fc.predict(resized_roi.reshape(-1,224,224,3))\n",
    "        \n",
    "        # SVM prediction\n",
    "        pred = svm_model.predict_proba(feature.reshape(-1,4096))\n",
    "        pred_lab=svm_model.predict(feature.reshape(-1,4096))\n",
    "\n",
    "        if pred_lab == 'crop' and np.max(pred)>confidence:\n",
    "            pred_crop.append([list(rect),np.max(pred)])\n",
    "        elif pred_lab=='weed' and np.max(pred)>confidence:\n",
    "            pred_weed.append([list(rect),np.max(pred)])\n",
    "            \n",
    "    final = []\n",
    "    \n",
    "    # Detection for crop class\n",
    "    if len(pred_crop) != 0:\n",
    "        pred_score_crop = [x[1] for x in pred_crop]\n",
    "        pred_bb_crop = [x[0] for x in pred_crop]\n",
    "\n",
    "        for i in range(len(pred_crop)):\n",
    "            temp_bb , temp_score = pred_bb_crop.copy() , pred_score_crop.copy()\n",
    "            if len(temp_bb) !=0:\n",
    "\n",
    "                max_score_box = temp_bb[np.argmax(temp_score)]\n",
    "\n",
    "                if [max_score_box,np.max(temp_score)] not in final:\n",
    "                    final.append([max_score_box,np.max(temp_score),'crop'])\n",
    "                    index_should_del = []\n",
    "\n",
    "                    for ind,other_bb in enumerate(temp_bb):\n",
    "                        iou_score = iou_calc(max_score_box , other_bb)\n",
    "                        \n",
    "                        # Non maximum suppression(nms)\n",
    "                        \n",
    "                        if iou_score >= iou_thresh:\n",
    "                            index_should_del.append(ind)\n",
    "\n",
    "                    pred_bb_crop    = []\n",
    "                    pred_score_crop = []\n",
    "                    for bb_index ,bb_value in enumerate(temp_bb) :\n",
    "                        if bb_index not in index_should_del:\n",
    "                            pred_bb_crop.append(bb_value)\n",
    "\n",
    "                    for score_index ,score_value in enumerate(temp_score) :\n",
    "                        if score_index not in index_should_del:\n",
    "                            pred_score_crop.append(score_value)\n",
    "                else:\n",
    "                    continue\n",
    "\n",
    "            else:\n",
    "                break\n",
    "\n",
    "    # Detection for weed class\n",
    "\n",
    "    if len(pred_weed) != 0:\n",
    "        pred_score_weed = [x[1] for x in pred_weed]\n",
    "        pred_bb_weed = [x[0] for x in pred_weed]\n",
    "\n",
    "        for i in range(len(pred_weed)):\n",
    "            temp_bb , temp_score = pred_bb_weed.copy() , pred_score_weed.copy()\n",
    "            if len(temp_bb) !=0:\n",
    "\n",
    "                max_score_box = temp_bb[np.argmax(temp_score)]\n",
    "\n",
    "                if [max_score_box,np.max(temp_score)] not in final:\n",
    "                    final.append([max_score_box,np.max(temp_score),'weed'])\n",
    "                    index_should_del = []\n",
    "\n",
    "                    for ind,other_bb in enumerate(temp_bb):\n",
    "                        iou_score = iou_calc(max_score_box , other_bb)\n",
    "\n",
    "                        if iou_score >= iou_thresh:\n",
    "                            index_should_del.append(ind)\n",
    "\n",
    "                    pred_bb_weed    = []\n",
    "                    pred_score_weed = []\n",
    "                    for bb_index ,bb_value in enumerate(temp_bb) :\n",
    "                        if bb_index not in index_should_del:\n",
    "                            pred_bb_weed.append(bb_value)\n",
    "\n",
    "                    for score_index ,score_value in enumerate(temp_score) :\n",
    "                        if score_index not in index_should_del:\n",
    "                            pred_score_weed.append(score_value)\n",
    "                else:\n",
    "                    continue\n",
    "\n",
    "            else:\n",
    "                break\n",
    "    \n",
    "   \n",
    "    imOut = img.copy()\n",
    "    crop_cls = 0\n",
    "    weed_cls = 0\n",
    "    for rect, score, cls in final:\n",
    "\n",
    "        x, y, w, h = rect\n",
    "        if cls == 'weed':\n",
    "            color = (0,0,255)\n",
    "            weed_cls = weed_cls + 1\n",
    "\n",
    "        if cls == 'crop':\n",
    "            color = (30,255,255)\n",
    "            crop_cls = crop_cls + 1\n",
    "\n",
    "        print(weed_cls)\n",
    "        print(crop_cls)\n",
    "\n",
    "        if crop_cls>weed_cls:\n",
    "            percentage = round((crop_cls/(weed_cls+crop_cls))*100,2)\n",
    "            class_final = 'crop'\n",
    "        if weed_cls>crop_cls:\n",
    "            percentage = round((weed_cls/(weed_cls+crop_cls))*100,2)\n",
    "            class_final = 'weed'\n",
    "            cv2.rectangle(imOut,(x,y),(x+w,y+h),color,2)\n",
    "            cv2.putText(imOut,cls+':'+str(round(score*100,2)),(150,150),cv2.FONT_HERSHEY_SIMPLEX,1, color, 2, cv2.LINE_AA)\n",
    "\n",
    "    cv2.imwrite('prediction.jpeg', imOut)\n",
    "    predicted = {'class': class_final, 'score': percentage}\n",
    "\n",
    "   \n",
    "\n",
    "    return predicted "
   ]
  },
  {
   "cell_type": "code",
   "execution_count": 40,
   "metadata": {},
   "outputs": [
    {
     "name": "stderr",
     "output_type": "stream",
     "text": [
      "1056it [03:23,  5.19it/s]"
     ]
    },
    {
     "name": "stdout",
     "output_type": "stream",
     "text": [
      "1\n",
      "0\n"
     ]
    },
    {
     "name": "stderr",
     "output_type": "stream",
     "text": [
      "\n"
     ]
    },
    {
     "data": {
      "text/plain": [
       "{'class': 'weed', 'score': 100.0}"
      ]
     },
     "execution_count": 40,
     "metadata": {},
     "output_type": "execute_result"
    }
   ],
   "source": [
    "detection('agri_data_images/agri_0_3573.jpeg')"
   ]
  },
  {
   "cell_type": "code",
   "execution_count": 14,
   "metadata": {},
   "outputs": [
    {
     "name": "stderr",
     "output_type": "stream",
     "text": [
      "1323it [04:05,  5.40it/s]"
     ]
    },
    {
     "name": "stdout",
     "output_type": "stream",
     "text": [
      "1\n",
      "0\n"
     ]
    },
    {
     "name": "stderr",
     "output_type": "stream",
     "text": [
      "\n"
     ]
    },
    {
     "data": {
      "text/plain": [
       "{'class': 'weed', 'score': 100.0}"
      ]
     },
     "execution_count": 14,
     "metadata": {},
     "output_type": "execute_result"
    }
   ],
   "source": [
    "detection(images_path+images_name[1245])"
   ]
  },
  {
   "cell_type": "code",
   "execution_count": 15,
   "metadata": {},
   "outputs": [
    {
     "name": "stderr",
     "output_type": "stream",
     "text": [
      "1388it [04:16,  5.41it/s]"
     ]
    },
    {
     "name": "stdout",
     "output_type": "stream",
     "text": [
      "1\n",
      "0\n"
     ]
    },
    {
     "name": "stderr",
     "output_type": "stream",
     "text": [
      "\n"
     ]
    },
    {
     "data": {
      "text/plain": [
       "{'class': 'weed', 'score': 100.0}"
      ]
     },
     "execution_count": 15,
     "metadata": {},
     "output_type": "execute_result"
    }
   ],
   "source": [
    "detection(images_path+images_name[1100])"
   ]
  },
  {
   "cell_type": "code",
   "execution_count": null,
   "metadata": {},
   "outputs": [],
   "source": []
  },
  {
   "cell_type": "code",
   "execution_count": null,
   "metadata": {},
   "outputs": [],
   "source": []
  }
 ],
 "metadata": {
  "kernelspec": {
   "display_name": "Python 3",
   "language": "python",
   "name": "python3"
  },
  "language_info": {
   "codemirror_mode": {
    "name": "ipython",
    "version": 3
   },
   "file_extension": ".py",
   "mimetype": "text/x-python",
   "name": "python",
   "nbconvert_exporter": "python",
   "pygments_lexer": "ipython3",
   "version": "3.8.8"
  }
 },
 "nbformat": 4,
 "nbformat_minor": 4
}
